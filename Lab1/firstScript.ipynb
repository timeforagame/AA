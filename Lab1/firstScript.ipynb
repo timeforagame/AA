{
 "cells": [
  {
   "cell_type": "markdown",
   "metadata": {},
   "source": [
    "**Separated code**"
   ]
  },
  {
   "cell_type": "code",
   "execution_count": 1,
   "metadata": {},
   "outputs": [],
   "source": [
    "fil = open('planets.csv')"
   ]
  },
  {
   "cell_type": "code",
   "execution_count": 2,
   "metadata": {},
   "outputs": [],
   "source": [
    "lines = fil.readlines()"
   ]
  },
  {
   "cell_type": "code",
   "execution_count": 3,
   "metadata": {},
   "outputs": [],
   "source": [
    "fil.close()"
   ]
  },
  {
   "cell_type": "code",
   "execution_count": 4,
   "metadata": {},
   "outputs": [
    {
     "data": {
      "text/plain": [
       "['Name,mean distance from Sun (AU),orbital period (Earth years)\\n',\n",
       " 'Mercury,0.39,0.24\\n',\n",
       " 'Venus,0.72,0.62\\n',\n",
       " 'Earth,1,1\\n',\n",
       " 'Mars,1.52,1.88\\n',\n",
       " 'Jupiter,5.2,11.86\\n',\n",
       " 'Saturn,9.54,29.46\\n',\n",
       " 'Uranus,19.18,84.01\\n',\n",
       " 'Neptune,30.06,164.8\\n']"
      ]
     },
     "execution_count": 4,
     "metadata": {},
     "output_type": "execute_result"
    }
   ],
   "source": [
    "lines"
   ]
  },
  {
   "cell_type": "markdown",
   "metadata": {},
   "source": [
    "**Script code**"
   ]
  },
  {
   "cell_type": "markdown",
   "metadata": {},
   "source": [
    "***function definition***"
   ]
  },
  {
   "cell_type": "code",
   "execution_count": 5,
   "metadata": {},
   "outputs": [],
   "source": [
    "def planet_period(planet):\n",
    "    \"\"\"Return orbital period\n",
    "    Uses planets.csv\"\"\"\n",
    "    lines = open('planets.csv').readlines()\n",
    "    for line in lines:\n",
    "        parts = line.split(',')\n",
    "        if parts[0] == planet:\n",
    "            return float(parts[2])"
   ]
  },
  {
   "cell_type": "code",
   "execution_count": 6,
   "metadata": {},
   "outputs": [
    {
     "data": {
      "text/plain": [
       "1.88"
      ]
     },
     "execution_count": 6,
     "metadata": {},
     "output_type": "execute_result"
    }
   ],
   "source": [
    "planet_period('Mars')"
   ]
  },
  {
   "cell_type": "markdown",
   "metadata": {},
   "source": [
    "**Using Numpy**"
   ]
  },
  {
   "cell_type": "code",
   "execution_count": 7,
   "metadata": {},
   "outputs": [],
   "source": [
    "import numpy\n",
    "\n",
    "def load_planet_data(file_name):\n",
    "    \"\"\"Return matrix with orbital radius and period\"\"\"\n",
    "    rows = []\n",
    "    lines = open(file_name).readlines()\n",
    "    for line in lines[1:]:\n",
    "        parts = line.split(',')\n",
    "        rows.append( ( float(parts[1]), float(parts[2]) ) )\n",
    "    return numpy.array(rows)"
   ]
  },
  {
   "cell_type": "code",
   "execution_count": 8,
   "metadata": {},
   "outputs": [
    {
     "data": {
      "text/plain": [
       "array([[  0.39,   0.24],\n",
       "       [  0.72,   0.62],\n",
       "       [  1.  ,   1.  ],\n",
       "       [  1.52,   1.88],\n",
       "       [  5.2 ,  11.86],\n",
       "       [  9.54,  29.46],\n",
       "       [ 19.18,  84.01],\n",
       "       [ 30.06, 164.8 ]])"
      ]
     },
     "execution_count": 8,
     "metadata": {},
     "output_type": "execute_result"
    }
   ],
   "source": [
    "load_planet_data('planets.csv')"
   ]
  },
  {
   "cell_type": "code",
   "execution_count": null,
   "metadata": {},
   "outputs": [],
   "source": []
  }
 ],
 "metadata": {
  "kernelspec": {
   "display_name": "Python 3",
   "language": "python",
   "name": "python3"
  },
  "language_info": {
   "codemirror_mode": {
    "name": "ipython",
    "version": 3
   },
   "file_extension": ".py",
   "mimetype": "text/x-python",
   "name": "python",
   "nbconvert_exporter": "python",
   "pygments_lexer": "ipython3",
   "version": "3.7.3"
  }
 },
 "nbformat": 4,
 "nbformat_minor": 2
}
