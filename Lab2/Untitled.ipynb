{
 "cells": [
  {
   "cell_type": "code",
   "execution_count": 1,
   "metadata": {},
   "outputs": [],
   "source": [
    "import numpy as np"
   ]
  },
  {
   "cell_type": "code",
   "execution_count": 2,
   "metadata": {},
   "outputs": [],
   "source": [
    "import matplotlib.pyplot as plt"
   ]
  },
  {
   "cell_type": "code",
   "execution_count": 3,
   "metadata": {},
   "outputs": [],
   "source": [
    "data = np.loadtxt(\"res/bluegills.txt\",delimiter='\\t',skiprows=1)"
   ]
  },
  {
   "cell_type": "code",
   "execution_count": 5,
   "metadata": {},
   "outputs": [],
   "source": [
    "num_points = len(data)"
   ]
  },
  {
   "cell_type": "code",
   "execution_count": 6,
   "metadata": {},
   "outputs": [
    {
     "data": {
      "text/plain": [
       "78"
      ]
     },
     "execution_count": 6,
     "metadata": {},
     "output_type": "execute_result"
    }
   ],
   "source": [
    "num_points"
   ]
  },
  {
   "cell_type": "markdown",
   "metadata": {},
   "source": [
    "***Stardadize Data***"
   ]
  },
  {
   "cell_type": "code",
   "execution_count": 7,
   "metadata": {},
   "outputs": [],
   "source": [
    "data = (data-np.mean(data,axis=0))/np.std(data,axis=0)"
   ]
  },
  {
   "cell_type": "markdown",
   "metadata": {},
   "source": [
    "***Shuffle***"
   ]
  },
  {
   "cell_type": "code",
   "execution_count": 8,
   "metadata": {},
   "outputs": [],
   "source": [
    "np.random.shuffle(data)"
   ]
  },
  {
   "cell_type": "code",
   "execution_count": 21,
   "metadata": {},
   "outputs": [
    {
     "data": {
      "text/plain": [
       "array([[ 0.40351793,  0.09997032],\n",
       "       [-0.68180615, -0.15022277],\n",
       "       [ 0.40351793,  0.76715189],\n",
       "       [ 0.40351793,  1.10074267],\n",
       "       [ 0.40351793,  0.55865765],\n",
       "       [ 0.40351793,  0.26676571],\n",
       "       [ 0.40351793,  0.68375419],\n",
       "       [ 0.40351793,  0.3501634 ],\n",
       "       [ 0.40351793, -0.15022277],\n",
       "       [ 0.40351793,  0.60035649],\n",
       "       [ 1.48884201,  0.26676571],\n",
       "       [ 2.57416609,  1.10074267],\n",
       "       [ 0.40351793, -0.15022277],\n",
       "       [ 1.48884201,  0.26676571],\n",
       "       [-1.76713024, -1.44288707],\n",
       "       [ 0.40351793,  1.05904382],\n",
       "       [-0.68180615,  0.26676571],\n",
       "       [-0.68180615, -1.06759743],\n",
       "       [-2.85245432, -3.40273293],\n",
       "       [-0.68180615, -0.56721126],\n",
       "       [-0.68180615, -0.90080204],\n",
       "       [-0.68180615, -0.52551241],\n",
       "       [ 1.48884201,  0.68375419],\n",
       "       [-1.76713024, -1.8181767 ],\n",
       "       [ 0.40351793,  0.68375419],\n",
       "       [-0.68180615, -0.56721126],\n",
       "       [-0.68180615, -0.15022277],\n",
       "       [-1.76713024, -0.85910319],\n",
       "       [ 0.40351793, -0.23362047],\n",
       "       [ 0.40351793,  0.26676571],\n",
       "       [ 0.40351793,  0.26676571],\n",
       "       [ 0.40351793,  0.39186225],\n",
       "       [-1.76713024, -2.52705712],\n",
       "       [ 0.40351793,  0.26676571],\n",
       "       [ 0.40351793,  0.89224843],\n",
       "       [ 0.40351793,  0.47525995],\n",
       "       [ 0.40351793,  0.68375419],\n",
       "       [ 0.40351793,  0.72545304],\n",
       "       [ 0.40351793,  1.10074267],\n",
       "       [ 0.40351793, -0.15022277],\n",
       "       [-1.76713024, -2.31856288],\n",
       "       [ 0.40351793,  0.26676571],\n",
       "       [ 0.40351793,  0.26676571],\n",
       "       [ 0.40351793, -0.15022277],\n",
       "       [ 0.40351793,  1.14244152],\n",
       "       [ 0.40351793,  0.01657262],\n",
       "       [-0.68180615,  0.26676571],\n",
       "       [ 0.40351793,  0.09997032],\n",
       "       [-0.68180615, -1.19269398],\n",
       "       [ 0.40351793,  0.97564613],\n",
       "       [-0.68180615, -0.15022277],\n",
       "       [ 1.48884201,  1.10074267],\n",
       "       [ 0.40351793,  1.10074267],\n",
       "       [-0.68180615,  0.26676571],\n",
       "       [ 1.48884201,  1.51773115],\n",
       "       [ 0.40351793,  0.68375419],\n",
       "       [-0.68180615, -0.02512623],\n",
       "       [ 1.48884201,  1.14244152],\n",
       "       [-0.68180615, -0.27531932],\n",
       "       [-0.68180615,  0.26676571],\n",
       "       [ 0.40351793,  0.76715189],\n",
       "       [-1.76713024, -2.19346633],\n",
       "       [-0.68180615, -0.06682508],\n",
       "       [ 1.48884201,  1.85132194],\n",
       "       [-2.85245432, -3.19423869],\n",
       "       [ 0.40351793,  0.26676571],\n",
       "       [ 0.40351793,  0.26676571],\n",
       "       [ 0.40351793,  0.4335611 ],\n",
       "       [ 0.40351793, -0.35871701],\n",
       "       [ 1.48884201,  0.68375419],\n",
       "       [-0.68180615, -0.90080204],\n",
       "       [-0.68180615, -0.90080204],\n",
       "       [ 0.40351793,  0.05827147],\n",
       "       [ 0.40351793,  0.26676571],\n",
       "       [ 0.40351793,  0.05827147],\n",
       "       [-0.68180615, -0.52551241],\n",
       "       [ 0.40351793,  0.76715189],\n",
       "       [-1.76713024, -1.44288707]])"
      ]
     },
     "execution_count": 21,
     "metadata": {},
     "output_type": "execute_result"
    }
   ],
   "source": [
    "data"
   ]
  },
  {
   "cell_type": "markdown",
   "metadata": {},
   "source": [
    "***Split***"
   ]
  },
  {
   "cell_type": "code",
   "execution_count": 10,
   "metadata": {},
   "outputs": [],
   "source": [
    "train, validation, test = np.split(data, [int(num_points*0.5),int(num_points*0.75)])"
   ]
  },
  {
   "cell_type": "markdown",
   "metadata": {},
   "source": [
    "***Polyfit***"
   ]
  },
  {
   "cell_type": "code",
   "execution_count": 11,
   "metadata": {},
   "outputs": [],
   "source": [
    "def mean_square_error(data,coefs):\n",
    "    \"\"\"Return mean squared error\n",
    "\t   X on first column, Y on second column\n",
    "    \"\"\"\n",
    "    pred = np.polyval(coefs,data[:,0])\n",
    "    error = np.mean((data[:,1]-pred)**2)\n",
    "    return error"
   ]
  },
  {
   "cell_type": "code",
   "execution_count": 12,
   "metadata": {},
   "outputs": [],
   "source": [
    "best_err = 10000000 # very large number"
   ]
  },
  {
   "cell_type": "code",
   "execution_count": 13,
   "metadata": {
    "scrolled": true
   },
   "outputs": [
    {
     "data": {
      "text/plain": [
       "[<matplotlib.lines.Line2D at 0x7f964c821b70>]"
      ]
     },
     "execution_count": 13,
     "metadata": {},
     "output_type": "execute_result"
    },
    {
     "data": {
      "image/png": "[encoded data removed]",
      "text/plain": [
       "<Figure size 432x288 with 1 Axes>"
      ]
     },
     "metadata": {
      "needs_background": "light"
     },
     "output_type": "display_data"
    }
   ],
   "source": [
    "plt.plot(data[:,0], data[:,1],'o')"
   ]
  },
  {
   "cell_type": "code",
   "execution_count": 25,
   "metadata": {},
   "outputs": [
    {
     "data": {
      "image/png": "[encoded data removed]",
      "text/plain": [
       "<Figure size 432x288 with 1 Axes>"
      ]
     },
     "metadata": {
      "needs_background": "light"
     },
     "output_type": "display_data"
    }
   ],
   "source": [
    "for degree in range(1,6):\n",
    "    coefs = np.polyfit(train[:,0],train[:,1],degree)\n",
    "    valid_error = mean_square_error(validation,coefs)\n",
    "    curve = np.polyval(coefs,train)\n",
    "    xp = np.linspace(min(data[:,0]), max(data[:,1]), 3)\n",
    "    plt.plot(train, curve, xp)\n",
    "    if valid_error < best_err:\n",
    "        best_err = valid_error\n",
    "        best_coef = coefs\n",
    "        best_degree = degree"
   ]
  },
  {
   "cell_type": "code",
   "execution_count": 15,
   "metadata": {},
   "outputs": [
    {
     "data": {
      "text/plain": [
       "array([[ 0.48663236,  0.30990185],\n",
       "       [-0.45775178,  0.10242649],\n",
       "       [ 0.48663236,  0.57220297],\n",
       "       [ 0.48663236,  0.53467223],\n",
       "       [ 0.48663236,  0.54041199],\n",
       "       [ 0.48663236,  0.41826127],\n",
       "       [ 0.48663236,  0.56499853],\n",
       "       [ 0.48663236,  0.46224556],\n",
       "       [ 0.48663236,  0.10242649],\n",
       "       [ 0.48663236,  0.55046759],\n",
       "       [ 0.40576187,  0.41826127],\n",
       "       [ 1.10074267,  0.53467223],\n",
       "       [ 0.48663236,  0.10242649],\n",
       "       [ 0.40576187,  0.41826127],\n",
       "       [-1.66180602, -1.3161476 ],\n",
       "       [ 0.48663236,  0.54446188],\n",
       "       [-0.45775178,  0.41826127],\n",
       "       [-0.45775178, -0.90002692],\n",
       "       [-3.40273293, -5.7816431 ],\n",
       "       [-0.45775178, -0.32852155],\n",
       "       [-0.45775178, -0.70902565],\n",
       "       [-0.45775178, -0.28224904],\n",
       "       [ 0.40576187,  0.56499853],\n",
       "       [-1.66180602, -1.71650928],\n",
       "       [ 0.48663236,  0.56499853],\n",
       "       [-0.45775178, -0.32852155],\n",
       "       [-0.45775178,  0.10242649],\n",
       "       [-1.66180602, -0.66104451],\n",
       "       [ 0.48663236,  0.0232489 ],\n",
       "       [ 0.48663236,  0.41826127],\n",
       "       [ 0.48663236,  0.41826127],\n",
       "       [ 0.48663236,  0.48155882],\n",
       "       [-1.66180602, -2.65879952],\n",
       "       [ 0.48663236,  0.41826127],\n",
       "       [ 0.48663236,  0.56984233],\n",
       "       [ 0.48663236,  0.51469764],\n",
       "       [ 0.48663236,  0.56499853],\n",
       "       [ 0.48663236,  0.56950427],\n",
       "       [ 0.48663236,  0.53467223]])"
      ]
     },
     "execution_count": 15,
     "metadata": {},
     "output_type": "execute_result"
    }
   ],
   "source": [
    "curve"
   ]
  },
  {
   "cell_type": "code",
   "execution_count": 16,
   "metadata": {},
   "outputs": [
    {
     "data": {
      "text/plain": [
       "array([[ 0.40351793,  0.09997032],\n",
       "       [-0.68180615, -0.15022277],\n",
       "       [ 0.40351793,  0.76715189],\n",
       "       [ 0.40351793,  1.10074267],\n",
       "       [ 0.40351793,  0.55865765],\n",
       "       [ 0.40351793,  0.26676571],\n",
       "       [ 0.40351793,  0.68375419],\n",
       "       [ 0.40351793,  0.3501634 ],\n",
       "       [ 0.40351793, -0.15022277],\n",
       "       [ 0.40351793,  0.60035649],\n",
       "       [ 1.48884201,  0.26676571],\n",
       "       [ 2.57416609,  1.10074267],\n",
       "       [ 0.40351793, -0.15022277],\n",
       "       [ 1.48884201,  0.26676571],\n",
       "       [-1.76713024, -1.44288707],\n",
       "       [ 0.40351793,  1.05904382],\n",
       "       [-0.68180615,  0.26676571],\n",
       "       [-0.68180615, -1.06759743],\n",
       "       [-2.85245432, -3.40273293],\n",
       "       [-0.68180615, -0.56721126],\n",
       "       [-0.68180615, -0.90080204],\n",
       "       [-0.68180615, -0.52551241],\n",
       "       [ 1.48884201,  0.68375419],\n",
       "       [-1.76713024, -1.8181767 ],\n",
       "       [ 0.40351793,  0.68375419],\n",
       "       [-0.68180615, -0.56721126],\n",
       "       [-0.68180615, -0.15022277],\n",
       "       [-1.76713024, -0.85910319],\n",
       "       [ 0.40351793, -0.23362047],\n",
       "       [ 0.40351793,  0.26676571],\n",
       "       [ 0.40351793,  0.26676571],\n",
       "       [ 0.40351793,  0.39186225],\n",
       "       [-1.76713024, -2.52705712],\n",
       "       [ 0.40351793,  0.26676571],\n",
       "       [ 0.40351793,  0.89224843],\n",
       "       [ 0.40351793,  0.47525995],\n",
       "       [ 0.40351793,  0.68375419],\n",
       "       [ 0.40351793,  0.72545304],\n",
       "       [ 0.40351793,  1.10074267]])"
      ]
     },
     "execution_count": 16,
     "metadata": {},
     "output_type": "execute_result"
    }
   ],
   "source": [
    "train"
   ]
  },
  {
   "cell_type": "code",
   "execution_count": 19,
   "metadata": {},
   "outputs": [],
   "source": [
    "plt.show()"
   ]
  },
  {
   "cell_type": "code",
   "execution_count": null,
   "metadata": {},
   "outputs": [],
   "source": []
  }
 ],
 "metadata": {
  "kernelspec": {
   "display_name": "Python 3",
   "language": "python",
   "name": "python3"
  },
  "language_info": {
   "codemirror_mode": {
    "name": "ipython",
    "version": 3
   },
   "file_extension": ".py",
   "mimetype": "text/x-python",
   "name": "python",
   "nbconvert_exporter": "python",
   "pygments_lexer": "ipython3",
   "version": "3.7.3"
  }
 },
 "nbformat": 4,
 "nbformat_minor": 2
}
