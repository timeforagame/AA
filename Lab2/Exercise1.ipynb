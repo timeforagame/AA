{
 "cells": [
  {
   "cell_type": "code",
   "execution_count": 1,
   "metadata": {},
   "outputs": [],
   "source": [
    "import numpy as np"
   ]
  },
  {
   "cell_type": "code",
   "execution_count": 2,
   "metadata": {},
   "outputs": [],
   "source": [
    "import matplotlib.pyplot as plt"
   ]
  },
  {
   "cell_type": "code",
   "execution_count": 3,
   "metadata": {},
   "outputs": [],
   "source": [
    "data = np.loadtxt(\"res/bluegills.txt\",delimiter='\\t',skiprows=1)"
   ]
  },
  {
   "cell_type": "code",
   "execution_count": 4,
   "metadata": {},
   "outputs": [],
   "source": [
    "num_points = len(data)"
   ]
  },
  {
   "cell_type": "code",
   "execution_count": 5,
   "metadata": {},
   "outputs": [
    {
     "data": {
      "text/plain": [
       "78"
      ]
     },
     "execution_count": 5,
     "metadata": {},
     "output_type": "execute_result"
    }
   ],
   "source": [
    "num_points"
   ]
  },
  {
   "cell_type": "markdown",
   "metadata": {},
   "source": [
    "***Stardadize Data***"
   ]
  },
  {
   "cell_type": "code",
   "execution_count": 6,
   "metadata": {},
   "outputs": [],
   "source": [
    "data = (data-np.mean(data,axis=0))/np.std(data,axis=0)"
   ]
  },
  {
   "cell_type": "markdown",
   "metadata": {},
   "source": [
    "***Shuffle***"
   ]
  },
  {
   "cell_type": "code",
   "execution_count": 7,
   "metadata": {},
   "outputs": [],
   "source": [
    "np.random.shuffle(data)"
   ]
  },
  {
   "cell_type": "code",
   "execution_count": 8,
   "metadata": {},
   "outputs": [
    {
     "data": {
      "text/plain": [
       "array([[ 0.40351793, -0.23362047],\n",
       "       [ 1.48884201,  0.26676571],\n",
       "       [ 0.40351793,  1.10074267],\n",
       "       [ 0.40351793,  0.05827147],\n",
       "       [ 0.40351793,  1.05904382],\n",
       "       [-1.76713024, -2.31856288],\n",
       "       [ 0.40351793,  1.10074267],\n",
       "       [-0.68180615, -0.56721126],\n",
       "       [ 0.40351793,  0.26676571],\n",
       "       [-0.68180615, -0.15022277],\n",
       "       [ 0.40351793,  1.14244152],\n",
       "       [-0.68180615, -1.19269398],\n",
       "       [-0.68180615, -0.02512623],\n",
       "       [ 1.48884201,  0.68375419],\n",
       "       [ 0.40351793,  0.01657262],\n",
       "       [ 0.40351793,  0.26676571],\n",
       "       [-2.85245432, -3.19423869],\n",
       "       [ 0.40351793,  0.68375419],\n",
       "       [ 1.48884201,  0.26676571],\n",
       "       [-0.68180615, -0.90080204],\n",
       "       [ 0.40351793,  0.68375419],\n",
       "       [-0.68180615, -1.06759743],\n",
       "       [ 0.40351793,  0.47525995],\n",
       "       [-1.76713024, -1.44288707],\n",
       "       [ 0.40351793, -0.15022277],\n",
       "       [ 0.40351793, -0.15022277],\n",
       "       [-2.85245432, -3.40273293],\n",
       "       [ 0.40351793,  0.26676571],\n",
       "       [ 0.40351793,  1.10074267],\n",
       "       [ 1.48884201,  1.10074267],\n",
       "       [-0.68180615, -0.15022277],\n",
       "       [-1.76713024, -1.8181767 ],\n",
       "       [ 0.40351793,  0.26676571],\n",
       "       [ 0.40351793, -0.35871701],\n",
       "       [-0.68180615, -0.15022277],\n",
       "       [ 0.40351793,  0.09997032],\n",
       "       [ 0.40351793,  0.3501634 ],\n",
       "       [ 0.40351793,  0.55865765],\n",
       "       [ 0.40351793,  0.26676571],\n",
       "       [-1.76713024, -2.19346633],\n",
       "       [ 0.40351793,  0.26676571],\n",
       "       [-0.68180615, -0.52551241],\n",
       "       [-0.68180615,  0.26676571],\n",
       "       [-1.76713024, -2.52705712],\n",
       "       [-1.76713024, -0.85910319],\n",
       "       [-1.76713024, -1.44288707],\n",
       "       [-0.68180615,  0.26676571],\n",
       "       [ 0.40351793,  0.39186225],\n",
       "       [ 2.57416609,  1.10074267],\n",
       "       [ 0.40351793,  0.4335611 ],\n",
       "       [ 0.40351793,  0.68375419],\n",
       "       [ 1.48884201,  0.68375419],\n",
       "       [ 0.40351793,  0.09997032],\n",
       "       [ 0.40351793,  0.76715189],\n",
       "       [ 0.40351793,  0.68375419],\n",
       "       [ 0.40351793,  0.76715189],\n",
       "       [ 0.40351793,  0.26676571],\n",
       "       [ 0.40351793,  0.26676571],\n",
       "       [ 0.40351793,  0.60035649],\n",
       "       [ 1.48884201,  1.85132194],\n",
       "       [ 0.40351793,  0.97564613],\n",
       "       [ 1.48884201,  1.51773115],\n",
       "       [ 0.40351793, -0.15022277],\n",
       "       [-0.68180615, -0.06682508],\n",
       "       [-0.68180615, -0.90080204],\n",
       "       [ 0.40351793,  0.26676571],\n",
       "       [-0.68180615, -0.56721126],\n",
       "       [-0.68180615, -0.90080204],\n",
       "       [-0.68180615,  0.26676571],\n",
       "       [-0.68180615, -0.52551241],\n",
       "       [ 0.40351793,  0.89224843],\n",
       "       [ 0.40351793,  0.72545304],\n",
       "       [ 1.48884201,  1.14244152],\n",
       "       [ 0.40351793,  0.76715189],\n",
       "       [-0.68180615,  0.26676571],\n",
       "       [ 0.40351793, -0.15022277],\n",
       "       [-0.68180615, -0.27531932],\n",
       "       [ 0.40351793,  0.05827147]])"
      ]
     },
     "execution_count": 8,
     "metadata": {},
     "output_type": "execute_result"
    }
   ],
   "source": [
    "data"
   ]
  },
  {
   "cell_type": "markdown",
   "metadata": {},
   "source": [
    "***Split***"
   ]
  },
  {
   "cell_type": "code",
   "execution_count": 9,
   "metadata": {},
   "outputs": [],
   "source": [
    "train, validation, test = np.split(data, [int(num_points*0.5),int(num_points*0.75)])"
   ]
  },
  {
   "cell_type": "markdown",
   "metadata": {},
   "source": [
    "***Polyfit***"
   ]
  },
  {
   "cell_type": "code",
   "execution_count": 10,
   "metadata": {},
   "outputs": [],
   "source": [
    "def mean_square_error(data,coefs):\n",
    "    \"\"\"Return mean squared error\n",
    "\t   X on first column, Y on second column\n",
    "    \"\"\"\n",
    "    pred = np.polyval(coefs,data[:,0])\n",
    "    error = np.mean((data[:,1]-pred)**2)\n",
    "    return error"
   ]
  },
  {
   "cell_type": "code",
   "execution_count": 11,
   "metadata": {},
   "outputs": [],
   "source": [
    "best_err = 10000000 # very large number"
   ]
  },
  {
   "cell_type": "code",
   "execution_count": 18,
   "metadata": {},
   "outputs": [
    {
     "name": "stderr",
     "output_type": "stream",
     "text": [
      "/usr/lib/python3/dist-packages/IPython/core/interactiveshell.py:2878: RankWarning: Polyfit may be poorly conditioned\n",
      "  exec(code_obj, self.user_global_ns, self.user_ns)\n"
     ]
    },
    {
     "data": {
      "image/png": "[encoded data removed]",
      "text/plain": [
       "<Figure size 432x288 with 1 Axes>"
      ]
     },
     "metadata": {
      "needs_background": "light"
     },
     "output_type": "display_data"
    }
   ],
   "source": [
    "plt.plot(train[:,0], train[:,1],'o',color=\"red\")\n",
    "plt.plot(validation[:,0], validation[:,0], 'o', color=\"green\")\n",
    "plt.plot(test[:,0], test[:,1],'o',color=\"blue\")\n",
    "\n",
    "xp = np.linspace(start = min(data[:,0]), stop = max(data[:,1]), num=3)\n",
    "for degree in range(1,6):\n",
    "    coefs = np.polyfit(train[:,0],train[:,1],degree)\n",
    "    valid_error = mean_square_error(validation,coefs)\n",
    "    curve = np.polyval(coefs,train)\n",
    "    plt.plot(train, curve, xp)\n",
    "    if valid_error < best_err:\n",
    "        best_err = valid_error\n",
    "        best_coef = coefs\n",
    "        best_degree = degree\n"
   ]
  },
  {
   "cell_type": "code",
   "execution_count": 13,
   "metadata": {},
   "outputs": [
    {
     "data": {
      "text/plain": [
       "array([[ 0.40323467, -0.07818498],\n",
       "       [ 0.57950707,  0.31792967],\n",
       "       [ 0.40323467,  0.63805426],\n",
       "       [ 0.40323467,  0.16790044],\n",
       "       [ 0.40323467,  0.63511776],\n",
       "       [-1.85987555, -2.60537623],\n",
       "       [ 0.40323467,  0.63805426],\n",
       "       [-0.52551241, -0.40394942],\n",
       "       [ 0.40323467,  0.31792967],\n",
       "       [-0.52551241, -0.00389594],\n",
       "       [ 0.40323467,  0.63933804],\n",
       "       [-0.52551241, -1.11820177],\n",
       "       [-0.52551241,  0.10165758],\n",
       "       [ 0.57950707,  0.54136601],\n",
       "       [ 0.40323467,  0.13520397],\n",
       "       [ 0.40323467,  0.31792967],\n",
       "       [-3.29848581, -3.68775034],\n",
       "       [ 0.40323467,  0.54136601],\n",
       "       [ 0.57950707,  0.31792967],\n",
       "       [-0.52551241, -0.7700596 ],\n",
       "       [ 0.40323467,  0.54136601],\n",
       "       [-0.52551241, -0.96613555],\n",
       "       [ 0.40323467,  0.44348968],\n",
       "       [-1.85987555, -1.43357968],\n",
       "       [ 0.40323467, -0.00389594],\n",
       "       [ 0.40323467, -0.00389594],\n",
       "       [-3.29848581, -3.88875807],\n",
       "       [ 0.40323467,  0.31792967],\n",
       "       [ 0.40323467,  0.63805426],\n",
       "       [ 0.57950707,  0.63805426],\n",
       "       [-0.52551241, -0.00389594],\n",
       "       [-1.85987555, -1.9283001 ],\n",
       "       [ 0.40323467,  0.31792967],\n",
       "       [ 0.40323467, -0.19517069],\n",
       "       [-0.52551241, -0.00389594],\n",
       "       [ 0.40323467,  0.19972754],\n",
       "       [ 0.40323467,  0.37125745],\n",
       "       [ 0.40323467,  0.48616174],\n",
       "       [ 0.40323467,  0.31792967]])"
      ]
     },
     "execution_count": 13,
     "metadata": {},
     "output_type": "execute_result"
    }
   ],
   "source": [
    "curve"
   ]
  },
  {
   "cell_type": "code",
   "execution_count": 14,
   "metadata": {},
   "outputs": [
    {
     "data": {
      "text/plain": [
       "array([[ 0.40351793, -0.23362047],\n",
       "       [ 1.48884201,  0.26676571],\n",
       "       [ 0.40351793,  1.10074267],\n",
       "       [ 0.40351793,  0.05827147],\n",
       "       [ 0.40351793,  1.05904382],\n",
       "       [-1.76713024, -2.31856288],\n",
       "       [ 0.40351793,  1.10074267],\n",
       "       [-0.68180615, -0.56721126],\n",
       "       [ 0.40351793,  0.26676571],\n",
       "       [-0.68180615, -0.15022277],\n",
       "       [ 0.40351793,  1.14244152],\n",
       "       [-0.68180615, -1.19269398],\n",
       "       [-0.68180615, -0.02512623],\n",
       "       [ 1.48884201,  0.68375419],\n",
       "       [ 0.40351793,  0.01657262],\n",
       "       [ 0.40351793,  0.26676571],\n",
       "       [-2.85245432, -3.19423869],\n",
       "       [ 0.40351793,  0.68375419],\n",
       "       [ 1.48884201,  0.26676571],\n",
       "       [-0.68180615, -0.90080204],\n",
       "       [ 0.40351793,  0.68375419],\n",
       "       [-0.68180615, -1.06759743],\n",
       "       [ 0.40351793,  0.47525995],\n",
       "       [-1.76713024, -1.44288707],\n",
       "       [ 0.40351793, -0.15022277],\n",
       "       [ 0.40351793, -0.15022277],\n",
       "       [-2.85245432, -3.40273293],\n",
       "       [ 0.40351793,  0.26676571],\n",
       "       [ 0.40351793,  1.10074267],\n",
       "       [ 1.48884201,  1.10074267],\n",
       "       [-0.68180615, -0.15022277],\n",
       "       [-1.76713024, -1.8181767 ],\n",
       "       [ 0.40351793,  0.26676571],\n",
       "       [ 0.40351793, -0.35871701],\n",
       "       [-0.68180615, -0.15022277],\n",
       "       [ 0.40351793,  0.09997032],\n",
       "       [ 0.40351793,  0.3501634 ],\n",
       "       [ 0.40351793,  0.55865765],\n",
       "       [ 0.40351793,  0.26676571]])"
      ]
     },
     "execution_count": 14,
     "metadata": {},
     "output_type": "execute_result"
    }
   ],
   "source": [
    "train"
   ]
  },
  {
   "cell_type": "code",
   "execution_count": 15,
   "metadata": {},
   "outputs": [
    {
     "data": {
      "text/plain": [
       "array([[-1.76713024, -2.19346633],\n",
       "       [ 0.40351793,  0.26676571],\n",
       "       [-0.68180615, -0.52551241],\n",
       "       [-0.68180615,  0.26676571],\n",
       "       [-1.76713024, -2.52705712],\n",
       "       [-1.76713024, -0.85910319],\n",
       "       [-1.76713024, -1.44288707],\n",
       "       [-0.68180615,  0.26676571],\n",
       "       [ 0.40351793,  0.39186225],\n",
       "       [ 2.57416609,  1.10074267],\n",
       "       [ 0.40351793,  0.4335611 ],\n",
       "       [ 0.40351793,  0.68375419],\n",
       "       [ 1.48884201,  0.68375419],\n",
       "       [ 0.40351793,  0.09997032],\n",
       "       [ 0.40351793,  0.76715189],\n",
       "       [ 0.40351793,  0.68375419],\n",
       "       [ 0.40351793,  0.76715189],\n",
       "       [ 0.40351793,  0.26676571],\n",
       "       [ 0.40351793,  0.26676571]])"
      ]
     },
     "execution_count": 15,
     "metadata": {},
     "output_type": "execute_result"
    }
   ],
   "source": [
    "validation"
   ]
  },
  {
   "cell_type": "code",
   "execution_count": 16,
   "metadata": {},
   "outputs": [
    {
     "data": {
      "text/plain": [
       "array([[ 0.40351793,  0.60035649],\n",
       "       [ 1.48884201,  1.85132194],\n",
       "       [ 0.40351793,  0.97564613],\n",
       "       [ 1.48884201,  1.51773115],\n",
       "       [ 0.40351793, -0.15022277],\n",
       "       [-0.68180615, -0.06682508],\n",
       "       [-0.68180615, -0.90080204],\n",
       "       [ 0.40351793,  0.26676571],\n",
       "       [-0.68180615, -0.56721126],\n",
       "       [-0.68180615, -0.90080204],\n",
       "       [-0.68180615,  0.26676571],\n",
       "       [-0.68180615, -0.52551241],\n",
       "       [ 0.40351793,  0.89224843],\n",
       "       [ 0.40351793,  0.72545304],\n",
       "       [ 1.48884201,  1.14244152],\n",
       "       [ 0.40351793,  0.76715189],\n",
       "       [-0.68180615,  0.26676571],\n",
       "       [ 0.40351793, -0.15022277],\n",
       "       [-0.68180615, -0.27531932],\n",
       "       [ 0.40351793,  0.05827147]])"
      ]
     },
     "execution_count": 16,
     "metadata": {},
     "output_type": "execute_result"
    }
   ],
   "source": [
    "test"
   ]
  },
  {
   "cell_type": "code",
   "execution_count": 17,
   "metadata": {},
   "outputs": [
    {
     "data": {
      "text/plain": [
       "array([-0.00209391, -0.00850423, -0.04338088, -0.24221331,  0.80244136,\n",
       "        0.12197213])"
      ]
     },
     "execution_count": 17,
     "metadata": {},
     "output_type": "execute_result"
    }
   ],
   "source": [
    "coefs"
   ]
  },
  {
   "cell_type": "code",
   "execution_count": null,
   "metadata": {},
   "outputs": [],
   "source": []
  }
 ],
 "metadata": {
  "kernelspec": {
   "display_name": "Python 3",
   "language": "python",
   "name": "python3"
  },
  "language_info": {
   "codemirror_mode": {
    "name": "ipython",
    "version": 3
   },
   "file_extension": ".py",
   "mimetype": "text/x-python",
   "name": "python",
   "nbconvert_exporter": "python",
   "pygments_lexer": "ipython3",
   "version": "3.7.3"
  }
 },
 "nbformat": 4,
 "nbformat_minor": 2
}
